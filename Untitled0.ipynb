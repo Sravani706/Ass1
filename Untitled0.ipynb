{
  "nbformat": 4,
  "nbformat_minor": 0,
  "metadata": {
    "colab": {
      "name": "Untitled0.ipynb",
      "provenance": [],
      "authorship_tag": "ABX9TyNdIuWQIScNb1/LGzwoPu0K",
      "include_colab_link": true
    },
    "kernelspec": {
      "name": "python3",
      "display_name": "Python 3"
    },
    "language_info": {
      "name": "python"
    }
  },
  "cells": [
    {
      "cell_type": "markdown",
      "metadata": {
        "id": "view-in-github",
        "colab_type": "text"
      },
      "source": [
        "<a href=\"https://colab.research.google.com/github/Sravani706/Ass1/blob/main/Untitled0.ipynb\" target=\"_parent\"><img src=\"https://colab.research.google.com/assets/colab-badge.svg\" alt=\"Open In Colab\"/></a>"
      ]
    },
    {
      "cell_type": "code",
      "metadata": {
        "colab": {
          "base_uri": "https://localhost:8080/",
          "height": 269
        },
        "id": "s6a4Q54zphc3",
        "outputId": "b161f54c-c825-4b81-da46-70812dea19df"
      },
      "source": [
        "import numpy as np\n",
        "import matplotlib.pyplot as plt\n",
        "import numpy.linalg as LA\n",
        "\n",
        "plt.axis([-5,8,-4,3])\n",
        "\n",
        "plt.axis('on')\n",
        "plt.grid(True)\n",
        "\n",
        "A = np.array([[1,3],\n",
        " [2, -3]])\n",
        "B = np.array([6,12]) \n",
        "P = np.linalg.solve(A, B) \n",
        "\n",
        "C = np.array([[1,3],\n",
        " [1, 0]])\n",
        "D = np.array([0,2]) \n",
        "Q = np.linalg.solve(C, D) \n",
        "\n",
        "E = np.array([[2,-3],\n",
        " [1, 0]])\n",
        "F = np.array([0,-4]) \n",
        "R = np.linalg.solve(E, F) \n",
        "\n",
        "def line_gen(A,B):\n",
        "  len =10\n",
        "  dim = A.shape[0]\n",
        "  x_AB = np.zeros((dim,len))\n",
        "  lam_1 = np.linspace(0,1,len)\n",
        "  for i in range(len):\n",
        "    temp1 = A + lam_1[i]*(B-A)\n",
        "    x_AB[:,i]= temp1.T\n",
        "  return x_AB\n",
        "\n",
        "  #Generating all lines\n",
        "x_PQ = line_gen(P,Q)\n",
        "x_QR = line_gen(Q,R)\n",
        "x_RP = line_gen(R,P)\n",
        "\n",
        "#Plotting all lines\n",
        "plt.plot(x_PQ[0,:],x_PQ[1,:],label='$PQ$')\n",
        "plt.plot(x_QR[0,:],x_QR[1,:],label='$QR$')\n",
        "plt.plot(x_RP[0,:],x_RP[1,:],label='$RS$')\n",
        "\n",
        "tri_coords = np.vstack((P,Q,R)).T\n",
        "plt.scatter(tri_coords[0,:], tri_coords[1,:])\n",
        "vert_labels = ['P','Q','R']\n",
        "for i, txt in enumerate(vert_labels):\n",
        "    plt.annotate(txt, # this is the text\n",
        "                 (tri_coords[0,i], tri_coords[1,i]), # this is the point to label\n",
        "                 textcoords=\"offset points\", # how to position the text\n",
        "                 xytext=(0,10), # distance from text to points (x,y)\n",
        "                 ha='center') # horizontal alignment can be left, right or center\n",
        "\n",
        "\n",
        "plt.savefig('line.pdf')\n",
        "plt.show()\n"
      ],
      "execution_count": 11,
      "outputs": [
        {
          "output_type": "display_data",
          "data": {
            "image/png": "[encoded data removed]",
            "text/plain": [
              "<Figure size 432x288 with 1 Axes>"
            ]
          },
          "metadata": {
            "tags": [],
            "needs_background": "light"
          }
        }
      ]
    }
  ]
}